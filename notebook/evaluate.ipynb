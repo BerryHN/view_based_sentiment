{
 "cells": [
  {
   "cell_type": "markdown",
   "metadata": {},
   "source": [
    "## 评价函数\n",
    "本赛题采用F1-score进行评价。\n",
    "\n",
    "对参赛者提供的结果文件（5000条记录），在A榜测试时选择40%（2000条）作为测试语料。使用B榜测试时，使用剩下的60%（3000条）。\n",
    "\n",
    "1.   在本次评测中，我们按照“视角-情感对”作为结果评测的最小粒度。\n",
    "2.   对于评测集合，逐条将参赛队伍结果中的“视角-情感对”与标注数据对比。\n",
    "\n",
    "a)   正确数量：tp = tp1 + tp2 + tp3。\n",
    "\n",
    "b)   情感判断错误数量：fp = fp1 + fp2 + fp3 + fp4 + fp5 + fp6\n",
    "\n",
    "c)   漏判或多判数量：fn = fn1+fn2;\n",
    "```\n",
    " \t   正（标注）\t中（标注）\t负（标注）\n",
    "正（预测）\ttp1\t    fp1\t       fp2\n",
    "中（预测）\tfp3\t    tp2\t       fp4\n",
    "负（预测）\tfp5\t    fp6\t       tp3\n",
    "视角未找到（漏判）\tfn1\n",
    "无效视角（多判）\t fn2\n",
    "```\n",
    "3.   按以下公式计算参赛者所有正确结果数量与标准结果数量的准确率(公式1)和召回率（公式2），并根据准确率和召回率计算F1-score（公式3），最后，按照F1-score对所有参赛者进行排序。\n",
    "$$P = tp/(tp + fp + fn2) ----- (1)$$\n",
    "        \n",
    "其中，P为准确率，tp为选手提交结果中“视角-情感对”判断正确的数量，fp为选手提交结果中“视角-情感对”情感判断错误的数量。\n",
    "$$R = tp/(tp + fn1) ------- (2)$$        \n",
    "其中，R为召回率，tp为选手提交结果中“视角-情感对”判断正确的数量，fn为漏判和多判的数量。\n",
    "$$F1 = 2 * P * R / (P+R) ------ (3)$$       \n",
    "其中，F1为F1-score，P为准确率，R为召回率。"
   ]
  },
  {
   "cell_type": "code",
   "execution_count": 1,
   "metadata": {
    "collapsed": true
   },
   "outputs": [],
   "source": [
    "import pandas as pd"
   ]
  },
  {
   "cell_type": "code",
   "execution_count": 2,
   "metadata": {
    "collapsed": false
   },
   "outputs": [],
   "source": [
    "def evaluate(result_path, standard_path):\n",
    "    \"\"\"结果评价函数。\n",
    "    @input:\n",
    "        result_path: 结果 csv 文件。包括三列 [SentenceId,View,Opinion]\n",
    "        standard_path: 答案 csv 文件。形式与result_path 相同。\n",
    "    @return:\n",
    "        P: precision\n",
    "        R: recall rate\n",
    "        F1: F1 value\n",
    "    \"\"\"\n",
    "    df_result = pd.read_csv(result_path, sep='\\t')\n",
    "    df_standard = pd.read_csv(standard_path, sep='\\t')\n",
    "    df_result['id'] = df_result.SentenceId.apply(lambda num_id: str(num_id))\n",
    "    df_result['key'] = df_result.id + df_result.View  # 将id和视角拼起来作为唯一标识\n",
    "    df_standard['id'] = df_standard.SentenceId.apply(lambda num_id: str(num_id))\n",
    "    df_standard['key'] = df_standard.id + df_standard.View  # 将id和视角拼起来作为唯一标识\n",
    "    # 漏判 fn1, 多判 fn2\n",
    "    r_key = set(df_result.key.values)\n",
    "    s_key = set(df_standard.key.values)\n",
    "    tn = len(r_key & s_key)  # 视角判断正确,取两者交集\n",
    "    fn1 = len(s_key) - tn\n",
    "    fn2 = len(r_key) - tn\n",
    "    p_view = float(tn) / len(r_key)  # 视角提取正确率\n",
    "    r_view = float(tn) / len(s_key)  # 视角提取召回率\n",
    "    f1_view = 2 * p_view * r_view / (p_view + r_view) # 视角提取 F1 值\n",
    "    print 'p_view=%g, r_view=%g, f1_view=%g' % (p_view, r_view, f1_view)\n",
    "    # 情感判断正确 tp, 判断错误 fp\n",
    "    df_result['view_opinion'] = df_result.key + df_result.Opinion  # id_view_opinion\n",
    "    df_standard['view_opinion'] = df_standard.key + df_standard.Opinion  # id_view_opinion\n",
    "    r_vo = set(df_result.view_opinion.values)\n",
    "    s_vo = set(df_standard.view_opinion.values)\n",
    "    tp = len(r_vo & s_vo)\n",
    "    fp = tn - tp\n",
    "    P = float(tp) / (tn + fn2)  # 准确率\n",
    "    R = float(tp) / (tp + fn1)  # 召回率\n",
    "    F1 = 2*P*R / (P+R)\n",
    "    # print 'tn=%d, fn1=%d, fn2=%d, tp=%d, fp=%d' % (tn, fn1, fn2, tp, fp)\n",
    "    print 'P=%g, R=%g, F1=%g' % (P, R, F1)\n",
    "\n",
    "# **Example\n",
    "# if __name__ == \"__main__\":\n",
    "#     sp = \"../raw_data/Label.csv\"\n",
    "#     rp = \"../dara/result.csv\"\n",
    "#     evaluate(rp, sp)"
   ]
  }
 ],
 "metadata": {
  "kernelspec": {
   "display_name": "Python 2",
   "language": "python",
   "name": "python2"
  },
  "language_info": {
   "codemirror_mode": {
    "name": "ipython",
    "version": 2
   },
   "file_extension": ".py",
   "mimetype": "text/x-python",
   "name": "python",
   "nbconvert_exporter": "python",
   "pygments_lexer": "ipython2",
   "version": "2.7.13"
  }
 },
 "nbformat": 4,
 "nbformat_minor": 2
}
